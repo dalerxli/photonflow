{
 "cells": [
  {
   "cell_type": "code",
   "execution_count": 1,
   "metadata": {},
   "outputs": [
    {
     "name": "stderr",
     "output_type": "stream",
     "text": [
      "Using TensorFlow backend.\n"
     ]
    }
   ],
   "source": [
    "from __future__ import absolute_import\n",
    "from __future__ import division\n",
    "from __future__ import print_function\n",
    "\n",
    "import os, sys\n",
    "nb_dir = os.path.split(os.path.split(os.getcwd())[0])[0]\n",
    "if nb_dir not in sys.path:\n",
    "    sys.path.append(nb_dir)\n",
    "os.environ['TF_CPP_MIN_LOG_LEVEL']='2'\n",
    "\n",
    "    \n",
    "from datetime import datetime, date, time\n",
    "import matplotlib.pyplot as plt\n",
    "\n",
    "    \n",
    "    \n",
    "from photonflow.utils import regularizers\n",
    "from photonflow.layers.photonic_convolutional import photonic_conv2d, photonic_maxpool2d\n",
    "from photonflow.layers.photonic_dense import photonic_dense\n",
    "from photonflow.core.Activation_Functions.AF import modulator_optical_activation, getOptimalLength\n",
    "from photonflow.core.Activation_Functions.modulatorTFLKeras import modulatorFunctions\n",
    "\n",
    "\n",
    "#from tensorflow.utils import regularizers\n",
    "#from tensorflow.contrib.layers.python.layers import regularizers\n",
    "#from tensorflow.layers import conv2d, maxpool2d\n",
    "#from tensorflow.layers import dense\n",
    "#from tensorflow.nn import relu\n",
    "\n",
    "\n",
    "import numpy as np\n",
    "import tensorflow as tf\n",
    "from tensorflow.contrib import layers\n",
    "from tensorflow.contrib.framework.python.ops import arg_scope\n",
    "from tensorflow.contrib.layers.python.layers import layers as layers_lib\n",
    "from tensorflow.examples.tutorials.mnist import input_data\n",
    "from tensorflow.contrib.layers.python.layers import utils\n",
    "from tensorflow.python.ops import array_ops\n",
    "from tensorflow.python.ops import init_ops\n",
    "from tensorflow.python.ops import nn_ops\n",
    "from tensorflow import losses\n",
    "\n",
    "from keras import backend as K\n"
   ]
  },
  {
   "cell_type": "markdown",
   "metadata": {},
   "source": [
    "## Create folder and logging file name"
   ]
  },
  {
   "cell_type": "code",
   "execution_count": 2,
   "metadata": {},
   "outputs": [
    {
     "name": "stdout",
     "output_type": "stream",
     "text": [
      "/Users/Armin/Projects/photonflow/photonflow/networks/log/\n",
      "/Users/Armin/Projects/photonflow/photonflow/networks/trained_models/\n"
     ]
    }
   ],
   "source": [
    "now_time = datetime.now()\n",
    "now_string = str(now_time.year)+'-'+str(now_time.month)+'-'+str(now_time.day)+'-'+str(now_time.hour)+'-'+str(now_time.minute)\n",
    "\n",
    "log_dir = os.getcwd()+'/log/'\n",
    "models_dir = os.getcwd()+'/trained_models/'\n",
    "\n",
    "training_noise_std = 0.000\n",
    "print(log_dir)\n",
    "print(models_dir)"
   ]
  },
  {
   "cell_type": "markdown",
   "metadata": {},
   "source": [
    "## Load input data"
   ]
  },
  {
   "cell_type": "code",
   "execution_count": 3,
   "metadata": {},
   "outputs": [
    {
     "name": "stdout",
     "output_type": "stream",
     "text": [
      "WARNING:tensorflow:From <ipython-input-3-a839aeb82f4b>:1: read_data_sets (from tensorflow.contrib.learn.python.learn.datasets.mnist) is deprecated and will be removed in a future version.\n",
      "Instructions for updating:\n",
      "Please use alternatives such as official/mnist/dataset.py from tensorflow/models.\n",
      "WARNING:tensorflow:From /Users/Armin/anaconda3/envs/photonflow/lib/python3.6/site-packages/tensorflow/contrib/learn/python/learn/datasets/mnist.py:260: maybe_download (from tensorflow.contrib.learn.python.learn.datasets.base) is deprecated and will be removed in a future version.\n",
      "Instructions for updating:\n",
      "Please write your own downloading logic.\n",
      "WARNING:tensorflow:From /Users/Armin/anaconda3/envs/photonflow/lib/python3.6/site-packages/tensorflow/contrib/learn/python/learn/datasets/mnist.py:262: extract_images (from tensorflow.contrib.learn.python.learn.datasets.mnist) is deprecated and will be removed in a future version.\n",
      "Instructions for updating:\n",
      "Please use tf.data to implement this functionality.\n",
      "Extracting MNIST_data/train-images-idx3-ubyte.gz\n",
      "WARNING:tensorflow:From /Users/Armin/anaconda3/envs/photonflow/lib/python3.6/site-packages/tensorflow/contrib/learn/python/learn/datasets/mnist.py:267: extract_labels (from tensorflow.contrib.learn.python.learn.datasets.mnist) is deprecated and will be removed in a future version.\n",
      "Instructions for updating:\n",
      "Please use tf.data to implement this functionality.\n",
      "Extracting MNIST_data/train-labels-idx1-ubyte.gz\n",
      "WARNING:tensorflow:From /Users/Armin/anaconda3/envs/photonflow/lib/python3.6/site-packages/tensorflow/contrib/learn/python/learn/datasets/mnist.py:110: dense_to_one_hot (from tensorflow.contrib.learn.python.learn.datasets.mnist) is deprecated and will be removed in a future version.\n",
      "Instructions for updating:\n",
      "Please use tf.one_hot on tensors.\n",
      "Extracting MNIST_data/t10k-images-idx3-ubyte.gz\n",
      "Extracting MNIST_data/t10k-labels-idx1-ubyte.gz\n",
      "WARNING:tensorflow:From /Users/Armin/anaconda3/envs/photonflow/lib/python3.6/site-packages/tensorflow/contrib/learn/python/learn/datasets/mnist.py:290: DataSet.__init__ (from tensorflow.contrib.learn.python.learn.datasets.mnist) is deprecated and will be removed in a future version.\n",
      "Instructions for updating:\n",
      "Please use alternatives such as official/mnist/dataset.py from tensorflow/models.\n"
     ]
    }
   ],
   "source": [
    "mnist = input_data.read_data_sets(\"MNIST_data/\", one_hot=True)"
   ]
  },
  {
   "cell_type": "markdown",
   "metadata": {},
   "source": [
    "## Set global variables"
   ]
  },
  {
   "cell_type": "code",
   "execution_count": 4,
   "metadata": {},
   "outputs": [],
   "source": [
    "# Create a truncated normal initializer\n",
    "trunc_normal = init_ops.glorot_normal_initializer()"
   ]
  },
  {
   "cell_type": "markdown",
   "metadata": {},
   "source": [
    "## Create Optical Activation Function"
   ]
  },
  {
   "cell_type": "code",
   "execution_count": 5,
   "metadata": {},
   "outputs": [
    {
     "data": {
      "text/plain": [
       "[<function photonflow.core.Activation_Functions.modulatorTFLKeras.graphene_aFunc(V, LGr, getC=False)>,\n",
       " <function photonflow.core.Activation_Functions.modulatorTFLKeras.quantum_dot_aFunc(V, LQD, getC=False)>,\n",
       " <function photonflow.core.Activation_Functions.modulatorTFLKeras.quantum_well_aFunc(V, LQW, getC=False)>,\n",
       " <function photonflow.core.Activation_Functions.modulatorTFLKeras.m3QW_aFunc(V, L3QW, getC=False)>,\n",
       " <function photonflow.core.Activation_Functions.modulatorTFLKeras.ex_aFunc(V, LEx, getC=False)>]"
      ]
     },
     "execution_count": 5,
     "metadata": {},
     "output_type": "execute_result"
    }
   ],
   "source": [
    "modulatorFunctions"
   ]
  },
  {
   "cell_type": "code",
   "execution_count": 6,
   "metadata": {},
   "outputs": [],
   "source": [
    "laser_power = 1.0e-2  #laser_optical_power = np.linspace(1e-9,50e-3,500)\n",
    "mod_length = 200      #np.linspace(0.01,500,500)\n",
    "modfunc = modulatorFunctions[3]\n",
    "test_plot = lambda x: modulator_optical_activation(x, modfunc, mod_length , laser_power)\n",
    "x = np.arange(-1, 1, 0.1)\n",
    "x_ = tf.placeholder(tf.float32, shape=None)\n",
    "y = test_plot(x_)\n"
   ]
  },
  {
   "cell_type": "code",
   "execution_count": 7,
   "metadata": {},
   "outputs": [],
   "source": [
    "with tf.Session() as sess_plot:\n",
    "    output_array = y.eval(feed_dict={x_:x})\n",
    "    "
   ]
  },
  {
   "cell_type": "code",
   "execution_count": 8,
   "metadata": {},
   "outputs": [
    {
     "name": "stderr",
     "output_type": "stream",
     "text": [
      "/Users/Armin/anaconda3/envs/photonflow/lib/python3.6/site-packages/matplotlib/font_manager.py:1241: UserWarning: findfont: Font family ['normal'] not found. Falling back to DejaVu Sans.\n",
      "  (prop.get_family(), self.defaultFamily[fontext]))\n"
     ]
    },
    {
     "data": {
      "image/png": "[encoded data removed]",
      "text/plain": [
       "<Figure size 864x432 with 1 Axes>"
      ]
     },
     "metadata": {
      "needs_background": "light"
     },
     "output_type": "display_data"
    }
   ],
   "source": [
    "font = {'family' : 'normal',\n",
    "        'weight' : 'regular',\n",
    "        'size'   : 18}\n",
    "\n",
    "plt.rc('font', **font)\n",
    "\n",
    "f, ax = plt.subplots(figsize=(12, 6))\n",
    "\n",
    "ax.plot(x,output_array)\n",
    "ax.set_xlabel('Vin')\n",
    "ax.set_ylabel('Vout')\n",
    "\n",
    "plt.show()"
   ]
  },
  {
   "cell_type": "code",
   "execution_count": 9,
   "metadata": {},
   "outputs": [],
   "source": [
    "# for modfunc in modulatorFunctions:\n",
    "#         modulator_optical_activations[modfunc] = modulator_optical_activation\n",
    "\n",
    "#             length = getOptimalLength(modfunc,laser_optical_power)\n",
    "#         lengths[modfunc] = length\n",
    "#         print('length ' + str(length))\n",
    "#         ##### UPDATE KERAS ACTIVATION FUNCTIONS WITH THIS GUY\n",
    "#         get_custom_objects().update({'modulator_optical_activation': Activation(modulator_optical_activation)})"
   ]
  },
  {
   "cell_type": "code",
   "execution_count": 10,
   "metadata": {},
   "outputs": [],
   "source": [
    "optical_af = lambda x: modulator_optical_activation(x, modfunc,2.0e-3 , 1.0e-15)"
   ]
  },
  {
   "cell_type": "markdown",
   "metadata": {},
   "source": [
    "## Define your model"
   ]
  },
  {
   "cell_type": "code",
   "execution_count": 11,
   "metadata": {},
   "outputs": [],
   "source": [
    "def AlexNet(inputs,\n",
    "                num_classes=10,\n",
    "                is_training=True,\n",
    "                dropout_keep_prob=0.5,\n",
    "                spatial_squeeze=True,\n",
    "                scope='ALEXNET'):\n",
    "    \n",
    "    \n",
    "    with tf.variable_scope(scope, [inputs]) as sc:\n",
    "        end_points_collection = sc.original_name_scope + '_end_points'\n",
    "    # Collect outputs for conv2d, fully_connected and max_pool2d.\n",
    "    \n",
    "        with tf.name_scope('Power_Monitor'):\n",
    "            power_monitor = tf.Variable(0.0, name='Power_Monitor', trainable=False)\n",
    "            \n",
    "        with arg_scope(\n",
    "            [layers.conv2d, layers_lib.fully_connected, layers_lib.max_pool2d],\n",
    "            outputs_collections=[end_points_collection]):\n",
    "            \n",
    "            output_conv_1, power_monitor, _ = photonic_conv2d(inputs, 16, 3, 1, training_noise_std, 'CONV1', power_monitor)\n",
    "            #dummy_noise_var = tf.Variable(initial_value=0.0,name='dummy_noise_variable')\n",
    "            #dummy_noise_var = output_conv_1\n",
    "            output_maxpool_1, power_monitor = photonic_maxpool2d(output_conv_1, 3, 1, 'MAXPOOL1', power_monitor)\n",
    "            output_conv_2, power_monitor, test_noise = photonic_conv2d(output_maxpool_1, 64, 1, 1,training_noise_std, 'CONV2', power_monitor)\n",
    "            output_maxpool_2, power_monitor = photonic_maxpool2d(output_conv_2, 3, 2, 'MAXPOOL2', power_monitor)\n",
    "            output_conv_3, power_monitor, _ = photonic_conv2d(output_maxpool_2, 64, 1, 1, training_noise_std, 'CONV3', power_monitor)\n",
    "            output_conv_4, power_monitor, test_noise = photonic_conv2d(output_conv_3, 64, 1, 1, training_noise_std, 'CONV4', power_monitor)\n",
    "            output_conv_5, power_monitor,_ = photonic_conv2d(output_conv_4, 64, 1, 1, training_noise_std, 'CONV5', power_monitor)\n",
    "            output_maxpool_5, power_monitor = photonic_maxpool2d(output_conv_5, 3, 2, 'MAXPOOL5', power_monitor)\n",
    "            \n",
    "        # Use conv2d instead of fully_connected layers.\n",
    "        with arg_scope(\n",
    "            [layers.conv2d, layers_lib.fully_connected],\n",
    "            weights_initializer=trunc_normal,\n",
    "            biases_initializer=init_ops.constant_initializer(0.1)):\n",
    "\n",
    "            weights_initializer=init_ops.constant_initializer(0.1)\n",
    "            output_dense_6, power_monitor = photonic_dense(output_maxpool_5, 32, dropout_keep_prob, is_training, tf.nn.tanh, None, None, None, weights_initializer,'FC6', power_monitor)\n",
    "            #tf.summary.histogram('after_activation', output_dense_6)\n",
    "            output_dense_7, power_monitor = photonic_dense(output_dense_6, 32, dropout_keep_prob, is_training, None, None, None, weights_initializer,'FC7', power_monitor)\n",
    "            output_dense_8, power_monitor = photonic_dense(output_dense_7, num_classes, dropout_keep_prob, is_training, None, None, weights_initializer,'FC8', power_monitor)\n",
    "\n",
    "\n",
    "\n",
    "        with tf.name_scope('Output'):\n",
    "            end_points = utils.convert_collection_to_dict(end_points_collection)\n",
    "            if spatial_squeeze:\n",
    "                net = tf.reduce_mean(output_dense_8, [1, 2], keep_dims=True, name='global_pool')\n",
    "                net = array_ops.squeeze(net, [1, 2], name='fc8/squeezed')\n",
    "                end_points[sc.name + '/fc8'] = net\n",
    "                \n",
    "                \n",
    "    return net, end_points, power_monitor, test_noise"
   ]
  },
  {
   "cell_type": "markdown",
   "metadata": {},
   "source": [
    "## Create placeholders and instanstiate the model"
   ]
  },
  {
   "cell_type": "code",
   "execution_count": 12,
   "metadata": {},
   "outputs": [],
   "source": [
    "x = tf.placeholder(tf.float32, [None, 28,28, 1], name='x_placeholder')\n",
    "y_ = tf.placeholder(tf.float32, [None, 10], name='y_placeholder')"
   ]
  },
  {
   "cell_type": "code",
   "execution_count": 13,
   "metadata": {},
   "outputs": [
    {
     "name": "stdout",
     "output_type": "stream",
     "text": [
      "NOISE STD: Tensor(\"ALEXNET/CONV1/Noise/Mul_7:0\", shape=(), dtype=float32)\n",
      "SIGNAL RANGE: Tensor(\"ALEXNET/CONV1/Noise/sub:0\", shape=(), dtype=float32)\n",
      "1/SNR is: Tensor(\"ALEXNET/CONV1/Noise/truediv_1:0\", shape=(), dtype=float32)\n",
      "NOISE STD: Tensor(\"ALEXNET/CONV2/Noise/Mul_7:0\", shape=(), dtype=float32)\n",
      "SIGNAL RANGE: Tensor(\"ALEXNET/CONV2/Noise/sub:0\", shape=(), dtype=float32)\n",
      "1/SNR is: Tensor(\"ALEXNET/CONV2/Noise/truediv_1:0\", shape=(), dtype=float32)\n",
      "NOISE STD: Tensor(\"ALEXNET/CONV3/Noise/Mul_7:0\", shape=(), dtype=float32)\n",
      "SIGNAL RANGE: Tensor(\"ALEXNET/CONV3/Noise/sub:0\", shape=(), dtype=float32)\n",
      "1/SNR is: Tensor(\"ALEXNET/CONV3/Noise/truediv_1:0\", shape=(), dtype=float32)\n",
      "NOISE STD: Tensor(\"ALEXNET/CONV4/Noise/Mul_7:0\", shape=(), dtype=float32)\n",
      "SIGNAL RANGE: Tensor(\"ALEXNET/CONV4/Noise/sub:0\", shape=(), dtype=float32)\n",
      "1/SNR is: Tensor(\"ALEXNET/CONV4/Noise/truediv_1:0\", shape=(), dtype=float32)\n",
      "NOISE STD: Tensor(\"ALEXNET/CONV5/Noise/Mul_7:0\", shape=(), dtype=float32)\n",
      "SIGNAL RANGE: Tensor(\"ALEXNET/CONV5/Noise/sub:0\", shape=(), dtype=float32)\n",
      "1/SNR is: Tensor(\"ALEXNET/CONV5/Noise/truediv_1:0\", shape=(), dtype=float32)\n"
     ]
    },
    {
     "ename": "TypeError",
     "evalue": "Expected float32, got <tensorflow.python.ops.init_ops.Constant object at 0xb428229b0> of type 'Constant' instead.",
     "output_type": "error",
     "traceback": [
      "\u001b[0;31m---------------------------------------------------------------------------\u001b[0m",
      "\u001b[0;31mTypeError\u001b[0m                                 Traceback (most recent call last)",
      "\u001b[0;32m<ipython-input-13-c3450674e41d>\u001b[0m in \u001b[0;36m<module>\u001b[0;34m\u001b[0m\n\u001b[0;32m----> 1\u001b[0;31m \u001b[0my\u001b[0m\u001b[0;34m,\u001b[0m \u001b[0mmodel\u001b[0m\u001b[0;34m,\u001b[0m \u001b[0mpower\u001b[0m\u001b[0;34m,\u001b[0m \u001b[0mtest_noise\u001b[0m \u001b[0;34m=\u001b[0m \u001b[0mAlexNet\u001b[0m\u001b[0;34m(\u001b[0m\u001b[0mx\u001b[0m\u001b[0;34m,\u001b[0m \u001b[0mnum_classes\u001b[0m\u001b[0;34m=\u001b[0m\u001b[0;36m10\u001b[0m\u001b[0;34m)\u001b[0m\u001b[0;34m\u001b[0m\u001b[0;34m\u001b[0m\u001b[0m\n\u001b[0m",
      "\u001b[0;32m<ipython-input-11-954d5d8247f1>\u001b[0m in \u001b[0;36mAlexNet\u001b[0;34m(inputs, num_classes, is_training, dropout_keep_prob, spatial_squeeze, scope)\u001b[0m\n\u001b[1;32m     36\u001b[0m \u001b[0;34m\u001b[0m\u001b[0m\n\u001b[1;32m     37\u001b[0m             \u001b[0mweights_initializer\u001b[0m\u001b[0;34m=\u001b[0m\u001b[0minit_ops\u001b[0m\u001b[0;34m.\u001b[0m\u001b[0mconstant_initializer\u001b[0m\u001b[0;34m(\u001b[0m\u001b[0;36m0.1\u001b[0m\u001b[0;34m)\u001b[0m\u001b[0;34m\u001b[0m\u001b[0;34m\u001b[0m\u001b[0m\n\u001b[0;32m---> 38\u001b[0;31m             \u001b[0moutput_dense_6\u001b[0m\u001b[0;34m,\u001b[0m \u001b[0mpower_monitor\u001b[0m \u001b[0;34m=\u001b[0m \u001b[0mphotonic_dense\u001b[0m\u001b[0;34m(\u001b[0m\u001b[0moutput_maxpool_5\u001b[0m\u001b[0;34m,\u001b[0m \u001b[0;36m32\u001b[0m\u001b[0;34m,\u001b[0m \u001b[0mdropout_keep_prob\u001b[0m\u001b[0;34m,\u001b[0m \u001b[0mis_training\u001b[0m\u001b[0;34m,\u001b[0m \u001b[0mtf\u001b[0m\u001b[0;34m.\u001b[0m\u001b[0mnn\u001b[0m\u001b[0;34m.\u001b[0m\u001b[0mtanh\u001b[0m\u001b[0;34m,\u001b[0m \u001b[0;32mNone\u001b[0m\u001b[0;34m,\u001b[0m \u001b[0;32mNone\u001b[0m\u001b[0;34m,\u001b[0m \u001b[0;32mNone\u001b[0m\u001b[0;34m,\u001b[0m \u001b[0mweights_initializer\u001b[0m\u001b[0;34m,\u001b[0m\u001b[0;34m'FC6'\u001b[0m\u001b[0;34m,\u001b[0m \u001b[0mpower_monitor\u001b[0m\u001b[0;34m)\u001b[0m\u001b[0;34m\u001b[0m\u001b[0;34m\u001b[0m\u001b[0m\n\u001b[0m\u001b[1;32m     39\u001b[0m             \u001b[0;31m#tf.summary.histogram('after_activation', output_dense_6)\u001b[0m\u001b[0;34m\u001b[0m\u001b[0;34m\u001b[0m\u001b[0;34m\u001b[0m\u001b[0m\n\u001b[1;32m     40\u001b[0m             \u001b[0moutput_dense_7\u001b[0m\u001b[0;34m,\u001b[0m \u001b[0mpower_monitor\u001b[0m \u001b[0;34m=\u001b[0m \u001b[0mphotonic_dense\u001b[0m\u001b[0;34m(\u001b[0m\u001b[0moutput_dense_6\u001b[0m\u001b[0;34m,\u001b[0m \u001b[0;36m32\u001b[0m\u001b[0;34m,\u001b[0m \u001b[0mdropout_keep_prob\u001b[0m\u001b[0;34m,\u001b[0m \u001b[0mis_training\u001b[0m\u001b[0;34m,\u001b[0m \u001b[0;32mNone\u001b[0m\u001b[0;34m,\u001b[0m \u001b[0;32mNone\u001b[0m\u001b[0;34m,\u001b[0m \u001b[0;32mNone\u001b[0m\u001b[0;34m,\u001b[0m \u001b[0mweights_initializer\u001b[0m\u001b[0;34m,\u001b[0m\u001b[0;34m'FC7'\u001b[0m\u001b[0;34m,\u001b[0m \u001b[0mpower_monitor\u001b[0m\u001b[0;34m)\u001b[0m\u001b[0;34m\u001b[0m\u001b[0;34m\u001b[0m\u001b[0m\n",
      "\u001b[0;32m~/Projects/photonflow/photonflow/layers/photonic_dense.py\u001b[0m in \u001b[0;36mphotonic_dense\u001b[0;34m(inputs, output_size, dropout_keep_prob, dropout_is_training, activation_fn, normalizer_fn, biases_initializer, name_scope, power_handle, weights_initializer, override, noise_std_value)\u001b[0m\n\u001b[1;32m     56\u001b[0m                     \u001b[0;32mwith\u001b[0m \u001b[0mtf\u001b[0m\u001b[0;34m.\u001b[0m\u001b[0mname_scope\u001b[0m\u001b[0;34m(\u001b[0m\u001b[0;34m'POWER'\u001b[0m\u001b[0;34m)\u001b[0m\u001b[0;34m:\u001b[0m\u001b[0;34m\u001b[0m\u001b[0;34m\u001b[0m\u001b[0m\n\u001b[1;32m     57\u001b[0m                             \u001b[0moutput_power\u001b[0m \u001b[0;34m=\u001b[0m \u001b[0mMRR_power\u001b[0m\u001b[0;34m(\u001b[0m\u001b[0minputs\u001b[0m\u001b[0;34m)\u001b[0m\u001b[0;34m\u001b[0m\u001b[0;34m\u001b[0m\u001b[0m\n\u001b[0;32m---> 58\u001b[0;31m                             \u001b[0mpower_handle\u001b[0m \u001b[0;34m+=\u001b[0m \u001b[0moutput_power\u001b[0m\u001b[0;34m\u001b[0m\u001b[0;34m\u001b[0m\u001b[0m\n\u001b[0m\u001b[1;32m     59\u001b[0m \u001b[0;34m\u001b[0m\u001b[0m\n\u001b[1;32m     60\u001b[0m     \u001b[0;32mreturn\u001b[0m \u001b[0mresult\u001b[0m\u001b[0;34m,\u001b[0m \u001b[0mpower_handle\u001b[0m\u001b[0;34m\u001b[0m\u001b[0;34m\u001b[0m\u001b[0m\n",
      "\u001b[0;32m~/anaconda3/envs/photonflow/lib/python3.6/site-packages/tensorflow/python/ops/math_ops.py\u001b[0m in \u001b[0;36mr_binary_op_wrapper\u001b[0;34m(y, x)\u001b[0m\n\u001b[1;32m    887\u001b[0m   \u001b[0;32mdef\u001b[0m \u001b[0mr_binary_op_wrapper\u001b[0m\u001b[0;34m(\u001b[0m\u001b[0my\u001b[0m\u001b[0;34m,\u001b[0m \u001b[0mx\u001b[0m\u001b[0;34m)\u001b[0m\u001b[0;34m:\u001b[0m\u001b[0;34m\u001b[0m\u001b[0;34m\u001b[0m\u001b[0m\n\u001b[1;32m    888\u001b[0m     \u001b[0;32mwith\u001b[0m \u001b[0mops\u001b[0m\u001b[0;34m.\u001b[0m\u001b[0mname_scope\u001b[0m\u001b[0;34m(\u001b[0m\u001b[0;32mNone\u001b[0m\u001b[0;34m,\u001b[0m \u001b[0mop_name\u001b[0m\u001b[0;34m,\u001b[0m \u001b[0;34m[\u001b[0m\u001b[0mx\u001b[0m\u001b[0;34m,\u001b[0m \u001b[0my\u001b[0m\u001b[0;34m]\u001b[0m\u001b[0;34m)\u001b[0m \u001b[0;32mas\u001b[0m \u001b[0mname\u001b[0m\u001b[0;34m:\u001b[0m\u001b[0;34m\u001b[0m\u001b[0;34m\u001b[0m\u001b[0m\n\u001b[0;32m--> 889\u001b[0;31m       \u001b[0mx\u001b[0m \u001b[0;34m=\u001b[0m \u001b[0mops\u001b[0m\u001b[0;34m.\u001b[0m\u001b[0mconvert_to_tensor\u001b[0m\u001b[0;34m(\u001b[0m\u001b[0mx\u001b[0m\u001b[0;34m,\u001b[0m \u001b[0mdtype\u001b[0m\u001b[0;34m=\u001b[0m\u001b[0my\u001b[0m\u001b[0;34m.\u001b[0m\u001b[0mdtype\u001b[0m\u001b[0;34m.\u001b[0m\u001b[0mbase_dtype\u001b[0m\u001b[0;34m,\u001b[0m \u001b[0mname\u001b[0m\u001b[0;34m=\u001b[0m\u001b[0;34m\"x\"\u001b[0m\u001b[0;34m)\u001b[0m\u001b[0;34m\u001b[0m\u001b[0;34m\u001b[0m\u001b[0m\n\u001b[0m\u001b[1;32m    890\u001b[0m       \u001b[0;32mreturn\u001b[0m \u001b[0mfunc\u001b[0m\u001b[0;34m(\u001b[0m\u001b[0mx\u001b[0m\u001b[0;34m,\u001b[0m \u001b[0my\u001b[0m\u001b[0;34m,\u001b[0m \u001b[0mname\u001b[0m\u001b[0;34m=\u001b[0m\u001b[0mname\u001b[0m\u001b[0;34m)\u001b[0m\u001b[0;34m\u001b[0m\u001b[0;34m\u001b[0m\u001b[0m\n\u001b[1;32m    891\u001b[0m \u001b[0;34m\u001b[0m\u001b[0m\n",
      "\u001b[0;32m~/anaconda3/envs/photonflow/lib/python3.6/site-packages/tensorflow/python/framework/ops.py\u001b[0m in \u001b[0;36mconvert_to_tensor\u001b[0;34m(value, dtype, name, preferred_dtype)\u001b[0m\n\u001b[1;32m   1046\u001b[0m       \u001b[0mname\u001b[0m\u001b[0;34m=\u001b[0m\u001b[0mname\u001b[0m\u001b[0;34m,\u001b[0m\u001b[0;34m\u001b[0m\u001b[0;34m\u001b[0m\u001b[0m\n\u001b[1;32m   1047\u001b[0m       \u001b[0mpreferred_dtype\u001b[0m\u001b[0;34m=\u001b[0m\u001b[0mpreferred_dtype\u001b[0m\u001b[0;34m,\u001b[0m\u001b[0;34m\u001b[0m\u001b[0;34m\u001b[0m\u001b[0m\n\u001b[0;32m-> 1048\u001b[0;31m       as_ref=False)\n\u001b[0m\u001b[1;32m   1049\u001b[0m \u001b[0;34m\u001b[0m\u001b[0m\n\u001b[1;32m   1050\u001b[0m \u001b[0;34m\u001b[0m\u001b[0m\n",
      "\u001b[0;32m~/anaconda3/envs/photonflow/lib/python3.6/site-packages/tensorflow/python/framework/ops.py\u001b[0m in \u001b[0;36minternal_convert_to_tensor\u001b[0;34m(value, dtype, name, as_ref, preferred_dtype, ctx)\u001b[0m\n\u001b[1;32m   1142\u001b[0m \u001b[0;34m\u001b[0m\u001b[0m\n\u001b[1;32m   1143\u001b[0m     \u001b[0;32mif\u001b[0m \u001b[0mret\u001b[0m \u001b[0;32mis\u001b[0m \u001b[0;32mNone\u001b[0m\u001b[0;34m:\u001b[0m\u001b[0;34m\u001b[0m\u001b[0;34m\u001b[0m\u001b[0m\n\u001b[0;32m-> 1144\u001b[0;31m       \u001b[0mret\u001b[0m \u001b[0;34m=\u001b[0m \u001b[0mconversion_func\u001b[0m\u001b[0;34m(\u001b[0m\u001b[0mvalue\u001b[0m\u001b[0;34m,\u001b[0m \u001b[0mdtype\u001b[0m\u001b[0;34m=\u001b[0m\u001b[0mdtype\u001b[0m\u001b[0;34m,\u001b[0m \u001b[0mname\u001b[0m\u001b[0;34m=\u001b[0m\u001b[0mname\u001b[0m\u001b[0;34m,\u001b[0m \u001b[0mas_ref\u001b[0m\u001b[0;34m=\u001b[0m\u001b[0mas_ref\u001b[0m\u001b[0;34m)\u001b[0m\u001b[0;34m\u001b[0m\u001b[0;34m\u001b[0m\u001b[0m\n\u001b[0m\u001b[1;32m   1145\u001b[0m \u001b[0;34m\u001b[0m\u001b[0m\n\u001b[1;32m   1146\u001b[0m     \u001b[0;32mif\u001b[0m \u001b[0mret\u001b[0m \u001b[0;32mis\u001b[0m \u001b[0mNotImplemented\u001b[0m\u001b[0;34m:\u001b[0m\u001b[0;34m\u001b[0m\u001b[0;34m\u001b[0m\u001b[0m\n",
      "\u001b[0;32m~/anaconda3/envs/photonflow/lib/python3.6/site-packages/tensorflow/python/framework/constant_op.py\u001b[0m in \u001b[0;36m_constant_tensor_conversion_function\u001b[0;34m(v, dtype, name, as_ref)\u001b[0m\n\u001b[1;32m    226\u001b[0m                                          as_ref=False):\n\u001b[1;32m    227\u001b[0m   \u001b[0m_\u001b[0m \u001b[0;34m=\u001b[0m \u001b[0mas_ref\u001b[0m\u001b[0;34m\u001b[0m\u001b[0;34m\u001b[0m\u001b[0m\n\u001b[0;32m--> 228\u001b[0;31m   \u001b[0;32mreturn\u001b[0m \u001b[0mconstant\u001b[0m\u001b[0;34m(\u001b[0m\u001b[0mv\u001b[0m\u001b[0;34m,\u001b[0m \u001b[0mdtype\u001b[0m\u001b[0;34m=\u001b[0m\u001b[0mdtype\u001b[0m\u001b[0;34m,\u001b[0m \u001b[0mname\u001b[0m\u001b[0;34m=\u001b[0m\u001b[0mname\u001b[0m\u001b[0;34m)\u001b[0m\u001b[0;34m\u001b[0m\u001b[0;34m\u001b[0m\u001b[0m\n\u001b[0m\u001b[1;32m    229\u001b[0m \u001b[0;34m\u001b[0m\u001b[0m\n\u001b[1;32m    230\u001b[0m \u001b[0;34m\u001b[0m\u001b[0m\n",
      "\u001b[0;32m~/anaconda3/envs/photonflow/lib/python3.6/site-packages/tensorflow/python/framework/constant_op.py\u001b[0m in \u001b[0;36mconstant\u001b[0;34m(value, dtype, shape, name, verify_shape)\u001b[0m\n\u001b[1;32m    205\u001b[0m   tensor_value.tensor.CopyFrom(\n\u001b[1;32m    206\u001b[0m       tensor_util.make_tensor_proto(\n\u001b[0;32m--> 207\u001b[0;31m           value, dtype=dtype, shape=shape, verify_shape=verify_shape))\n\u001b[0m\u001b[1;32m    208\u001b[0m   \u001b[0mdtype_value\u001b[0m \u001b[0;34m=\u001b[0m \u001b[0mattr_value_pb2\u001b[0m\u001b[0;34m.\u001b[0m\u001b[0mAttrValue\u001b[0m\u001b[0;34m(\u001b[0m\u001b[0mtype\u001b[0m\u001b[0;34m=\u001b[0m\u001b[0mtensor_value\u001b[0m\u001b[0;34m.\u001b[0m\u001b[0mtensor\u001b[0m\u001b[0;34m.\u001b[0m\u001b[0mdtype\u001b[0m\u001b[0;34m)\u001b[0m\u001b[0;34m\u001b[0m\u001b[0;34m\u001b[0m\u001b[0m\n\u001b[1;32m    209\u001b[0m   const_tensor = g.create_op(\n",
      "\u001b[0;32m~/anaconda3/envs/photonflow/lib/python3.6/site-packages/tensorflow/python/framework/tensor_util.py\u001b[0m in \u001b[0;36mmake_tensor_proto\u001b[0;34m(values, dtype, shape, verify_shape)\u001b[0m\n\u001b[1;32m    440\u001b[0m       \u001b[0mnparray\u001b[0m \u001b[0;34m=\u001b[0m \u001b[0mnp\u001b[0m\u001b[0;34m.\u001b[0m\u001b[0mempty\u001b[0m\u001b[0;34m(\u001b[0m\u001b[0mshape\u001b[0m\u001b[0;34m,\u001b[0m \u001b[0mdtype\u001b[0m\u001b[0;34m=\u001b[0m\u001b[0mnp_dt\u001b[0m\u001b[0;34m)\u001b[0m\u001b[0;34m\u001b[0m\u001b[0;34m\u001b[0m\u001b[0m\n\u001b[1;32m    441\u001b[0m     \u001b[0;32melse\u001b[0m\u001b[0;34m:\u001b[0m\u001b[0;34m\u001b[0m\u001b[0;34m\u001b[0m\u001b[0m\n\u001b[0;32m--> 442\u001b[0;31m       \u001b[0m_AssertCompatible\u001b[0m\u001b[0;34m(\u001b[0m\u001b[0mvalues\u001b[0m\u001b[0;34m,\u001b[0m \u001b[0mdtype\u001b[0m\u001b[0;34m)\u001b[0m\u001b[0;34m\u001b[0m\u001b[0;34m\u001b[0m\u001b[0m\n\u001b[0m\u001b[1;32m    443\u001b[0m       \u001b[0mnparray\u001b[0m \u001b[0;34m=\u001b[0m \u001b[0mnp\u001b[0m\u001b[0;34m.\u001b[0m\u001b[0marray\u001b[0m\u001b[0;34m(\u001b[0m\u001b[0mvalues\u001b[0m\u001b[0;34m,\u001b[0m \u001b[0mdtype\u001b[0m\u001b[0;34m=\u001b[0m\u001b[0mnp_dt\u001b[0m\u001b[0;34m)\u001b[0m\u001b[0;34m\u001b[0m\u001b[0;34m\u001b[0m\u001b[0m\n\u001b[1;32m    444\u001b[0m       \u001b[0;31m# check to them.\u001b[0m\u001b[0;34m\u001b[0m\u001b[0;34m\u001b[0m\u001b[0;34m\u001b[0m\u001b[0m\n",
      "\u001b[0;32m~/anaconda3/envs/photonflow/lib/python3.6/site-packages/tensorflow/python/framework/tensor_util.py\u001b[0m in \u001b[0;36m_AssertCompatible\u001b[0;34m(values, dtype)\u001b[0m\n\u001b[1;32m    351\u001b[0m     \u001b[0;32melse\u001b[0m\u001b[0;34m:\u001b[0m\u001b[0;34m\u001b[0m\u001b[0;34m\u001b[0m\u001b[0m\n\u001b[1;32m    352\u001b[0m       raise TypeError(\"Expected %s, got %s of type '%s' instead.\" %\n\u001b[0;32m--> 353\u001b[0;31m                       (dtype.name, repr(mismatch), type(mismatch).__name__))\n\u001b[0m\u001b[1;32m    354\u001b[0m \u001b[0;34m\u001b[0m\u001b[0m\n\u001b[1;32m    355\u001b[0m \u001b[0;34m\u001b[0m\u001b[0m\n",
      "\u001b[0;31mTypeError\u001b[0m: Expected float32, got <tensorflow.python.ops.init_ops.Constant object at 0xb428229b0> of type 'Constant' instead."
     ]
    }
   ],
   "source": [
    "y, model, power, test_noise = AlexNet(x, num_classes=10)"
   ]
  },
  {
   "cell_type": "markdown",
   "metadata": {},
   "source": [
    "## Total power accumulator"
   ]
  },
  {
   "cell_type": "code",
   "execution_count": null,
   "metadata": {},
   "outputs": [],
   "source": [
    "with tf.name_scope('Overall_Power'):\n",
    "            unreduced_overall_power = power\n",
    "            overall_power = tf.reduce_sum(unreduced_overall_power)\n",
    "            \n",
    "            tf.summary.scalar('power', overall_power)"
   ]
  },
  {
   "cell_type": "markdown",
   "metadata": {},
   "source": [
    "## Create training parameters and their summary writers"
   ]
  },
  {
   "cell_type": "code",
   "execution_count": null,
   "metadata": {},
   "outputs": [],
   "source": [
    "with tf.name_scope('Training'):\n",
    "    # Define loss and optimizer\n",
    "    cross_entropy = losses.softmax_cross_entropy(onehot_labels=y_, logits=y)\n",
    "    train_step = tf.train.AdamOptimizer(1e-4).minimize(cross_entropy)\n",
    "    correct_prediction = tf.equal(tf.argmax(y,1), tf.argmax(y_,1))\n",
    "    accuracy = tf.reduce_mean(tf.cast(correct_prediction, tf.float32))\n",
    "    tf.summary.scalar('cross_entropy', cross_entropy)\n",
    "    init = tf.global_variables_initializer()\n"
   ]
  },
  {
   "cell_type": "markdown",
   "metadata": {},
   "source": [
    "## Create batches and start training"
   ]
  },
  {
   "cell_type": "code",
   "execution_count": null,
   "metadata": {
    "scrolled": true
   },
   "outputs": [],
   "source": [
    "var_list=tf.get_collection(tf.GraphKeys.GLOBAL_VARIABLES, scope='ALEXNET')\n",
    "saver = tf.train.Saver(var_list, max_to_keep=1)\n",
    "\n",
    "with tf.Session() as sess:\n",
    "    sess.run(init)\n",
    "    latest_checkpoint = tf.train.latest_checkpoint('./trained_models/',latest_filename=None)\n",
    "    saver.restore(sess, latest_checkpoint)\n",
    "\n",
    "    train_writer = tf.summary.FileWriter(log_dir+now_string, sess.graph)\n",
    "    \n",
    "\n",
    "    \n",
    "    # Create a writer for the summary data.\n",
    "    #summary_writer = tf.summary.FileWriter(log_dir+now_string, sess.graph)\n",
    "    for i in range(100):\n",
    "        \n",
    "        total_power = 0.0\n",
    "        batch_temp = mnist.train.next_batch(32)\n",
    "        batch = (np.reshape(batch_temp[0],[-1,28,28,1]), batch_temp[1])\n",
    "        if i%100 == 0:\n",
    "            \n",
    "            \n",
    "            train_accuracy = accuracy.eval(feed_dict={x:batch[0], y_: batch[1]})\n",
    "            \n",
    "            print(\"step %d, training accuracy %g\"%(i, train_accuracy))\n",
    "\n",
    "            merged = tf.summary.merge_all()\n",
    "            \n",
    "            \n",
    "            test_noise_eval = sess.run([test_noise],feed_dict={x: batch[0], y_: batch[1]})\n",
    "            print(\"SNR VALUE IS:\", test_noise_eval)\n",
    "\n",
    "        \n",
    "        summary, _ = sess.run([merged, train_step],\n",
    "                              feed_dict={x: batch[0], y_: batch[1]})\n",
    "\n",
    "        train_writer.add_summary(summary, i)\n",
    "    \n",
    "        \n",
    "        \n",
    "    saver.save(sess, './trained_models/model_train_noise_001_all_'+now_string, global_step=i, write_meta_graph=True)\n",
    "        #test_writer = tf.summary.FileWriter(log_dir+now_string)\n",
    "        #tf.global_variables_initializer().run()\n",
    "\n"
   ]
  },
  {
   "cell_type": "code",
   "execution_count": null,
   "metadata": {},
   "outputs": [],
   "source": [
    "with tf.Session() as sess:\n",
    "    sess.run(init)\n",
    "    latest_checkpoint = tf.train.latest_checkpoint('./trained_models/',latest_filename=None)\n",
    "    saver.restore(sess, latest_checkpoint)\n",
    "\n",
    "    for i in range(1):\n",
    "\n",
    "\n",
    "            batch_temp = mnist.test.next_batch(10000)\n",
    "            batch = (np.reshape(batch_temp[0],[-1,28,28,1]), batch_temp[1])            \n",
    "\n",
    "            train_accuracy = accuracy.eval(feed_dict={x:batch[0], y_: batch[1]})\n",
    "\n",
    "            print(\"Accuracy %g\"%(train_accuracy))\n",
    "\n"
   ]
  },
  {
   "cell_type": "code",
   "execution_count": null,
   "metadata": {},
   "outputs": [],
   "source": [
    "tf.initializers.glorot_normal()"
   ]
  },
  {
   "cell_type": "code",
   "execution_count": null,
   "metadata": {},
   "outputs": [],
   "source": []
  },
  {
   "cell_type": "code",
   "execution_count": null,
   "metadata": {},
   "outputs": [],
   "source": []
  }
 ],
 "metadata": {
  "kernelspec": {
   "display_name": "photonflow",
   "language": "python",
   "name": "photonflow"
  },
  "language_info": {
   "codemirror_mode": {
    "name": "ipython",
    "version": 3
   },
   "file_extension": ".py",
   "mimetype": "text/x-python",
   "name": "python",
   "nbconvert_exporter": "python",
   "pygments_lexer": "ipython3",
   "version": "3.6.7"
  }
 },
 "nbformat": 4,
 "nbformat_minor": 2
}
